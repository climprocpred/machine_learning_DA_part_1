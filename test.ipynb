{
 "cells": [
  {
   "cell_type": "code",
   "execution_count": 1,
   "metadata": {
    "collapsed": true
   },
   "outputs": [],
   "source": [
    "import numpy as np\n",
    "from matplotlib import pyplot as plt\n",
    "from EnKF import *\n",
    "from L96 import *\n",
    "import time\n",
    "import pickle\n",
    "from Experiment import *"
   ]
  },
  {
   "cell_type": "code",
   "execution_count": null,
   "outputs": [
    {
     "name": "stdout",
     "output_type": "stream",
     "text": [
      "base case\n"
     ]
    },
    {
     "name": "stderr",
     "output_type": "stream",
     "text": [
      "assimilating:  19%|█▉        | 7740/40000 [02:01<08:27, 63.58it/s]"
     ]
    }
   ],
   "source": [
    "np.random.seed(0)\n",
    "F = 8\n",
    "N = 40\n",
    "nens = 20\n",
    "gamma = 1\n",
    "loc = 5\n",
    "x0 = F*np.ones(N)\n",
    "x0[0] = F+.01\n",
    "dt = 0.05\n",
    "T = 2000\n",
    "experiment = Experiment(x0,N,F,dt,nens=nens,loc=loc,gamma=gamma)\n",
    "experiment.getTrue(T)\n",
    "r = experiment.xx.std()*.3\n",
    "experiment.ystd = r\n",
    "experiment.Makeobs()\n",
    "print('base case')\n",
    "experiment.Assimilate()"
   ],
   "metadata": {
    "collapsed": false,
    "pycharm": {
     "name": "#%%\n",
     "is_executing": true
    }
   }
  },
  {
   "cell_type": "code",
   "execution_count": 11,
   "outputs": [],
   "source": [
    "with open('Sensitivity/base.pickle','rb') as f:\n",
    "    experiment = pickle.load(f)"
   ],
   "metadata": {
    "collapsed": false,
    "pycharm": {
     "name": "#%%\n"
    }
   }
  },
  {
   "cell_type": "code",
   "execution_count": 15,
   "outputs": [
    {
     "data": {
      "text/plain": "0.2264780261624027"
     },
     "execution_count": 15,
     "metadata": {},
     "output_type": "execute_result"
    }
   ],
   "source": [
    "experiment.rms().mean()"
   ],
   "metadata": {
    "collapsed": false,
    "pycharm": {
     "name": "#%%\n"
    }
   }
  },
  {
   "cell_type": "code",
   "execution_count": null,
   "outputs": [],
   "source": [],
   "metadata": {
    "collapsed": false,
    "pycharm": {
     "name": "#%%\n"
    }
   }
  }
 ],
 "metadata": {
  "kernelspec": {
   "display_name": "Python 3",
   "language": "python",
   "name": "python3"
  },
  "language_info": {
   "codemirror_mode": {
    "name": "ipython",
    "version": 2
   },
   "file_extension": ".py",
   "mimetype": "text/x-python",
   "name": "python",
   "nbconvert_exporter": "python",
   "pygments_lexer": "ipython2",
   "version": "2.7.6"
  }
 },
 "nbformat": 4,
 "nbformat_minor": 0
}